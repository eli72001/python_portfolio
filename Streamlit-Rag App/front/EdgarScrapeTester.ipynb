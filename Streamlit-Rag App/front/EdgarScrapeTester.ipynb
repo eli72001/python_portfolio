{
 "cells": [
  {
   "cell_type": "code",
   "execution_count": null,
   "metadata": {},
   "outputs": [],
   "source": [
    "! pip install sec-api"
   ]
  },
  {
   "cell_type": "code",
   "execution_count": 1,
   "metadata": {},
   "outputs": [],
   "source": [
    "from EdgarScrape import SecPdfDownloader\n",
    "from dotenv import load_dotenv\n",
    "load_dotenv()\n",
    "\n",
    "pdfDownloader = SecPdfDownloader()\n",
    "\n"
   ]
  },
  {
   "cell_type": "code",
   "execution_count": 3,
   "metadata": {},
   "outputs": [
    {
     "name": "stdout",
     "output_type": "stream",
     "text": [
      "{'total': {'value': 9, 'relation': 'eq'}, 'query': {'from': 0, 'size': 1}, 'filings': [{'id': '0953a183579489debfb281ed1a2293f3', 'accessionNo': '0001633917-24-000024', 'cik': '1633917', 'ticker': 'PYPL', 'companyName': 'PayPal Holdings, Inc.', 'companyNameLong': 'PayPal Holdings, Inc. (Filer)', 'formType': '10-K', 'description': 'Form 10-K - Annual report [Section 13 and 15(d), not S-K Item 405]', 'filedAt': '2024-02-07T19:35:06-05:00', 'linkToTxt': 'https://www.sec.gov/Archives/edgar/data/1633917/000163391724000024/0001633917-24-000024.txt', 'linkToHtml': 'https://www.sec.gov/Archives/edgar/data/1633917/000163391724000024/0001633917-24-000024-index.htm', 'linkToXbrl': '', 'linkToFilingDetails': 'https://www.sec.gov/Archives/edgar/data/1633917/000163391724000024/pypl-20231231.htm', 'entities': [{'companyName': 'PayPal Holdings, Inc. (Filer)', 'cik': '1633917', 'irsNo': '472989869', 'fiscalYearEnd': '1231', 'type': '10-K', 'act': '34', 'fileNo': '001-36859', 'filmNo': '24606404', 'sic': '7389 Services-Business Services, NEC'}], 'documentFormatFiles': [{'sequence': '1', 'description': '10-K', 'documentUrl': 'https://www.sec.gov/ix?doc=/Archives/edgar/data/1633917/000163391724000024/pypl-20231231.htm', 'type': '10-K', 'size': '3479912'}, {'sequence': '2', 'description': 'EX-10.30', 'documentUrl': 'https://www.sec.gov/Archives/edgar/data/1633917/000163391724000024/mgillofferletter_final.htm', 'type': 'EX-10.30', 'size': '43989'}, {'sequence': '3', 'description': 'EX-10.31', 'documentUrl': 'https://www.sec.gov/Archives/edgar/data/1633917/000163391724000024/dscottiofferletter_final.htm', 'type': 'EX-10.31', 'size': '41407'}, {'sequence': '4', 'description': 'EX-10.32', 'documentUrl': 'https://www.sec.gov/Archives/edgar/data/1633917/000163391724000024/skereereofferletter_final.htm', 'type': 'EX-10.32', 'size': '48473'}, {'sequence': '5', 'description': 'EX-10.33', 'documentUrl': 'https://www.sec.gov/Archives/edgar/data/1633917/000163391724000024/a2024independentdirectorco.htm', 'type': 'EX-10.33', 'size': '29762'}, {'sequence': '6', 'description': 'EX-21.01', 'documentUrl': 'https://www.sec.gov/Archives/edgar/data/1633917/000163391724000024/exhibit2101subsidiarylistf.htm', 'type': 'EX-21.01', 'size': '9620'}, {'sequence': '7', 'description': 'EX-22.01', 'documentUrl': 'https://www.sec.gov/Archives/edgar/data/1633917/000163391724000024/consentletter.htm', 'type': 'EX-22.01', 'size': '2078'}, {'sequence': '8', 'description': 'EX-31.01', 'documentUrl': 'https://www.sec.gov/Archives/edgar/data/1633917/000163391724000024/exhibit3101ceoq42023.htm', 'type': 'EX-31.01', 'size': '9669'}, {'sequence': '9', 'description': 'EX-31.02', 'documentUrl': 'https://www.sec.gov/Archives/edgar/data/1633917/000163391724000024/exhibit3102cfoq42023.htm', 'type': 'EX-31.02', 'size': '9686'}, {'sequence': '10', 'description': 'EX-32.01', 'documentUrl': 'https://www.sec.gov/Archives/edgar/data/1633917/000163391724000024/exhibit3201ceoq42023.htm', 'type': 'EX-32.01', 'size': '5154'}, {'sequence': '11', 'description': 'EX-32.02', 'documentUrl': 'https://www.sec.gov/Archives/edgar/data/1633917/000163391724000024/exhibit3202cfoq42023.htm', 'type': 'EX-32.02', 'size': '5327'}, {'sequence': '12', 'description': 'EX-97.1', 'documentUrl': 'https://www.sec.gov/Archives/edgar/data/1633917/000163391724000024/paypaldoddfrankclawbackpol.htm', 'type': 'EX-97.1', 'size': '38470'}, {'sequence': '18', 'documentUrl': 'https://www.sec.gov/Archives/edgar/data/1633917/000163391724000024/image_0.jpg', 'type': 'GRAPHIC', 'size': '15897'}, {'sequence': '19', 'documentUrl': 'https://www.sec.gov/Archives/edgar/data/1633917/000163391724000024/image_01.jpg', 'type': 'GRAPHIC', 'size': '4798'}, {'sequence': '20', 'documentUrl': 'https://www.sec.gov/Archives/edgar/data/1633917/000163391724000024/image_02.jpg', 'type': 'GRAPHIC', 'size': '4798'}, {'sequence': '21', 'documentUrl': 'https://www.sec.gov/Archives/edgar/data/1633917/000163391724000024/image_0c.jpg', 'type': 'GRAPHIC', 'size': '4798'}, {'sequence': '22', 'documentUrl': 'https://www.sec.gov/Archives/edgar/data/1633917/000163391724000024/pypl-20231231_g1.jpg', 'type': 'GRAPHIC', 'size': '33762'}, {'sequence': '23', 'documentUrl': 'https://www.sec.gov/Archives/edgar/data/1633917/000163391724000024/pypl-20231231_g10.jpg', 'type': 'GRAPHIC', 'size': '30582'}, {'sequence': '24', 'documentUrl': 'https://www.sec.gov/Archives/edgar/data/1633917/000163391724000024/pypl-20231231_g11.jpg', 'type': 'GRAPHIC', 'size': '42751'}, {'sequence': '25', 'documentUrl': 'https://www.sec.gov/Archives/edgar/data/1633917/000163391724000024/pypl-20231231_g12.jpg', 'type': 'GRAPHIC', 'size': '32349'}, {'sequence': '26', 'documentUrl': 'https://www.sec.gov/Archives/edgar/data/1633917/000163391724000024/pypl-20231231_g13.jpg', 'type': 'GRAPHIC', 'size': '30680'}, {'sequence': '27', 'documentUrl': 'https://www.sec.gov/Archives/edgar/data/1633917/000163391724000024/pypl-20231231_g14.jpg', 'type': 'GRAPHIC', 'size': '32768'}, {'sequence': '28', 'documentUrl': 'https://www.sec.gov/Archives/edgar/data/1633917/000163391724000024/pypl-20231231_g15.jpg', 'type': 'GRAPHIC', 'size': '31801'}, {'sequence': '29', 'documentUrl': 'https://www.sec.gov/Archives/edgar/data/1633917/000163391724000024/pypl-20231231_g16.jpg', 'type': 'GRAPHIC', 'size': '26118'}, {'sequence': '30', 'documentUrl': 'https://www.sec.gov/Archives/edgar/data/1633917/000163391724000024/pypl-20231231_g2.jpg', 'type': 'GRAPHIC', 'size': '74066'}, {'sequence': '31', 'documentUrl': 'https://www.sec.gov/Archives/edgar/data/1633917/000163391724000024/pypl-20231231_g3.jpg', 'type': 'GRAPHIC', 'size': '531702'}, {'sequence': '32', 'documentUrl': 'https://www.sec.gov/Archives/edgar/data/1633917/000163391724000024/pypl-20231231_g4.jpg', 'type': 'GRAPHIC', 'size': '255342'}, {'sequence': '33', 'documentUrl': 'https://www.sec.gov/Archives/edgar/data/1633917/000163391724000024/pypl-20231231_g5.jpg', 'type': 'GRAPHIC', 'size': '383858'}, {'sequence': '34', 'documentUrl': 'https://www.sec.gov/Archives/edgar/data/1633917/000163391724000024/pypl-20231231_g6.jpg', 'type': 'GRAPHIC', 'size': '52524'}, {'sequence': '35', 'documentUrl': 'https://www.sec.gov/Archives/edgar/data/1633917/000163391724000024/pypl-20231231_g7.jpg', 'type': 'GRAPHIC', 'size': '16935'}, {'sequence': '36', 'documentUrl': 'https://www.sec.gov/Archives/edgar/data/1633917/000163391724000024/pypl-20231231_g8.jpg', 'type': 'GRAPHIC', 'size': '24033'}, {'sequence': '37', 'documentUrl': 'https://www.sec.gov/Archives/edgar/data/1633917/000163391724000024/pypl-20231231_g9.jpg', 'type': 'GRAPHIC', 'size': '21317'}, {'sequence': '\\xa0', 'description': 'Complete submission text file', 'documentUrl': 'https://www.sec.gov/Archives/edgar/data/1633917/000163391724000024/0001633917-24-000024.txt', 'type': '\\xa0', 'size': '23792355'}], 'dataFiles': [{'sequence': '13', 'description': 'XBRL TAXONOMY EXTENSION SCHEMA DOCUMENT', 'documentUrl': 'https://www.sec.gov/Archives/edgar/data/1633917/000163391724000024/pypl-20231231.xsd', 'type': 'EX-101.SCH', 'size': '120385'}, {'sequence': '14', 'description': 'XBRL TAXONOMY EXTENSION CALCULATION LINKBASE DOCUMENT', 'documentUrl': 'https://www.sec.gov/Archives/edgar/data/1633917/000163391724000024/pypl-20231231_cal.xml', 'type': 'EX-101.CAL', 'size': '168179'}, {'sequence': '15', 'description': 'XBRL TAXONOMY EXTENSION DEFINITION LINKBASE DOCUMENT', 'documentUrl': 'https://www.sec.gov/Archives/edgar/data/1633917/000163391724000024/pypl-20231231_def.xml', 'type': 'EX-101.DEF', 'size': '705545'}, {'sequence': '16', 'description': 'XBRL TAXONOMY EXTENSION LABEL LINKBASE DOCUMENT', 'documentUrl': 'https://www.sec.gov/Archives/edgar/data/1633917/000163391724000024/pypl-20231231_lab.xml', 'type': 'EX-101.LAB', 'size': '1480313'}, {'sequence': '17', 'description': 'XBRL TAXONOMY EXTENSION PRESENTATION LINKBASE DOCUMENT', 'documentUrl': 'https://www.sec.gov/Archives/edgar/data/1633917/000163391724000024/pypl-20231231_pre.xml', 'type': 'EX-101.PRE', 'size': '1076388'}, {'sequence': '177', 'description': 'EXTRACTED XBRL INSTANCE DOCUMENT', 'documentUrl': 'https://www.sec.gov/Archives/edgar/data/1633917/000163391724000024/pypl-20231231_htm.xml', 'type': 'XML', 'size': '3841597'}], 'seriesAndClassesContractsInformation': [], 'periodOfReport': '2023-12-31'}]}\n"
     ]
    },
    {
     "ename": "KeyError",
     "evalue": "'stateOfIncorporation'",
     "output_type": "error",
     "traceback": [
      "\u001b[1;31m---------------------------------------------------------------------------\u001b[0m",
      "\u001b[1;31mKeyError\u001b[0m                                  Traceback (most recent call last)",
      "Cell \u001b[1;32mIn[3], line 1\u001b[0m\n\u001b[1;32m----> 1\u001b[0m \u001b[43mpdfDownloader\u001b[49m\u001b[38;5;241;43m.\u001b[39;49m\u001b[43mdownload_pdf_and_json\u001b[49m\u001b[43m(\u001b[49m\u001b[38;5;124;43m'\u001b[39;49m\u001b[38;5;124;43mPYPL\u001b[39;49m\u001b[38;5;124;43m'\u001b[39;49m\u001b[43m)\u001b[49m\n",
      "File \u001b[1;32mc:\\Users\\ElijahYadidi\\Deutsche Bank\\front\\EdgarScrape.py:58\u001b[0m, in \u001b[0;36mSecPdfDownloader.download_pdf_and_json\u001b[1;34m(self, ticker)\u001b[0m\n\u001b[0;32m     56\u001b[0m company_name \u001b[38;5;241m=\u001b[39m \u001b[38;5;28mself\u001b[39m\u001b[38;5;241m.\u001b[39mclean_company_name(company_name)\n\u001b[0;32m     57\u001b[0m cik \u001b[38;5;241m=\u001b[39m response[\u001b[38;5;124m'\u001b[39m\u001b[38;5;124mfilings\u001b[39m\u001b[38;5;124m'\u001b[39m][\u001b[38;5;241m0\u001b[39m][\u001b[38;5;124m'\u001b[39m\u001b[38;5;124mcik\u001b[39m\u001b[38;5;124m'\u001b[39m]\n\u001b[1;32m---> 58\u001b[0m state \u001b[38;5;241m=\u001b[39m \u001b[43mresponse\u001b[49m\u001b[43m[\u001b[49m\u001b[38;5;124;43m'\u001b[39;49m\u001b[38;5;124;43mfilings\u001b[39;49m\u001b[38;5;124;43m'\u001b[39;49m\u001b[43m]\u001b[49m\u001b[43m[\u001b[49m\u001b[38;5;241;43m0\u001b[39;49m\u001b[43m]\u001b[49m\u001b[43m[\u001b[49m\u001b[38;5;124;43m'\u001b[39;49m\u001b[38;5;124;43mentities\u001b[39;49m\u001b[38;5;124;43m'\u001b[39;49m\u001b[43m]\u001b[49m\u001b[43m[\u001b[49m\u001b[38;5;241;43m0\u001b[39;49m\u001b[43m]\u001b[49m\u001b[43m[\u001b[49m\u001b[38;5;124;43m'\u001b[39;49m\u001b[38;5;124;43mstateOfIncorporation\u001b[39;49m\u001b[38;5;124;43m'\u001b[39;49m\u001b[43m]\u001b[49m\u001b[38;5;241m.\u001b[39mlower()\n\u001b[0;32m     59\u001b[0m file_name \u001b[38;5;241m=\u001b[39m company_name \u001b[38;5;241m+\u001b[39m \u001b[38;5;124m\"\u001b[39m\u001b[38;5;124m 10K.pdf\u001b[39m\u001b[38;5;124m\"\u001b[39m\n\u001b[0;32m     60\u001b[0m \u001b[38;5;28;01mif\u001b[39;00m \u001b[38;5;28mself\u001b[39m\u001b[38;5;241m.\u001b[39mcheck_pdfs(file_name) \u001b[38;5;241m==\u001b[39m \u001b[38;5;28;01mFalse\u001b[39;00m:\n",
      "\u001b[1;31mKeyError\u001b[0m: 'stateOfIncorporation'"
     ]
    }
   ],
   "source": [
    "pdfDownloader.download_pdf_and_json('PYPL')\n"
   ]
  },
  {
   "cell_type": "code",
   "execution_count": null,
   "metadata": {},
   "outputs": [],
   "source": [
    "pdfDownloader.download_pdf_and_json('KO')\n"
   ]
  },
  {
   "cell_type": "code",
   "execution_count": null,
   "metadata": {},
   "outputs": [],
   "source": [
    "from RagApplication import RagApplication\n",
    "rag_app = RagApplication()\n",
    "rag_app.ask_question(\"What is the agent address of Coca Cola?\")"
   ]
  },
  {
   "cell_type": "code",
   "execution_count": null,
   "metadata": {},
   "outputs": [],
   "source": [
    "pdfDownloader.download_pdf_and_json('AMZN')\n"
   ]
  },
  {
   "cell_type": "code",
   "execution_count": null,
   "metadata": {},
   "outputs": [],
   "source": [
    "pdfDownloader.download_pdf_and_json('MSFT')"
   ]
  },
  {
   "cell_type": "code",
   "execution_count": null,
   "metadata": {},
   "outputs": [],
   "source": [
    "ticker = input(\"Please Enter a Ticker (enter nothing to exit)\")\n",
    "while ticker:\n",
    "    pdfDownloader.download_pdf_and_json(ticker.upper())\n",
    "    ticker = input(\"Please enter a Ticker (enter nothing to exit)\")"
   ]
  },
  {
   "cell_type": "code",
   "execution_count": null,
   "metadata": {},
   "outputs": [],
   "source": []
  }
 ],
 "metadata": {
  "kernelspec": {
   "display_name": "Python 3",
   "language": "python",
   "name": "python3"
  },
  "language_info": {
   "codemirror_mode": {
    "name": "ipython",
    "version": 3
   },
   "file_extension": ".py",
   "mimetype": "text/x-python",
   "name": "python",
   "nbconvert_exporter": "python",
   "pygments_lexer": "ipython3",
   "version": "3.11.7"
  }
 },
 "nbformat": 4,
 "nbformat_minor": 2
}
