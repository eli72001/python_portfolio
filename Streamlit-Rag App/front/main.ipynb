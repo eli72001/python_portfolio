{
 "cells": [
  {
   "cell_type": "code",
   "execution_count": null,
   "metadata": {},
   "outputs": [],
   "source": [
    "! pip install -U sentence-transformers\n",
    "! pip install --upgrade --quiet  spacy\n",
    "! python -m spacy download en_core_web_sm \n",
    "! pip install langchain-cohere\n",
    "! pip install PyMuPDF\n",
    "! pip install fitz\n",
    "! pip install langchain\n",
    "! pip install chromadb\n",
    "! pip install langchain_openai\n",
    "! pip install pypdf\n",
    "! pip install python-dotenv"
   ]
  },
  {
   "cell_type": "markdown",
   "metadata": {},
   "source": [
    "## Imports and Env Variables"
   ]
  },
  {
   "cell_type": "code",
   "execution_count": 1,
   "metadata": {},
   "outputs": [],
   "source": [
    "import os\n",
    "from dotenv import load_dotenv\n",
    "from frontendhelper import check_env_variables\n",
    "\n",
    "load_dotenv()\n",
    "check_env_variables()\n",
    "\n",
    "from PdfAnnotator import PdfAnnotator\n",
    "from OutputParser import OutputParser\n",
    "from RagApplication import RagApplication"
   ]
  },
  {
   "cell_type": "markdown",
   "metadata": {},
   "source": [
    "## Initialize Rag App"
   ]
  },
  {
   "cell_type": "code",
   "execution_count": 2,
   "metadata": {},
   "outputs": [],
   "source": [
    "rag_app = RagApplication()"
   ]
  },
  {
   "cell_type": "code",
   "execution_count": 3,
   "metadata": {},
   "outputs": [
    {
     "name": "stdout",
     "output_type": "stream",
     "text": [
      "Netflix is a leading entertainment service offering TV series, films, and games globally.\n",
      "\n",
      "Document: Netflix 10k.pdf | Page Number: 2-3\n"
     ]
    }
   ],
   "source": [
    "question = \"What is the nature of business for Netflix?\" \n",
    "response = rag_app.ask_question(question)\n",
    "print(response)"
   ]
  },
  {
   "cell_type": "code",
   "execution_count": 4,
   "metadata": {},
   "outputs": [
    {
     "name": "stdout",
     "output_type": "stream",
     "text": [
      "Netflix, Inc. (“Netflix”, “the Company”, “registrant”, “we”, or “us”) is one of the world’s leading entertainment services with over 260 million paid memberships in over 190 countries enjoying TV series, films and games across a wide variety of genres and languages.\n",
      "\n",
      "Document: Netflix 10k.pdf | Page Number: 2-3\n"
     ]
    }
   ],
   "source": [
    "refined_response = rag_app.refine_output(response, question)\n",
    "print(refined_response)"
   ]
  },
  {
   "cell_type": "code",
   "execution_count": 8,
   "metadata": {},
   "outputs": [],
   "source": [
    "import time\n",
    "questions = []\n",
    "for i in range(25):\n",
    "    questions.append('What is the nature of business for Netflix?')\n",
    "responses = []\n",
    "refined_responses = []\n",
    "for i, q in enumerate(questions):\n",
    "    if i%5 == 0:\n",
    "        time.sleep(30)\n",
    "    response = rag_app.ask_question(q)\n",
    "    refined_response = rag_app.refine_output(response, q)\n",
    "    responses.append(response)\n",
    "    refined_responses.append(refined_response)\n"
   ]
  },
  {
   "cell_type": "code",
   "execution_count": 9,
   "metadata": {},
   "outputs": [
    {
     "data": {
      "text/plain": [
       "['Netflix is a global entertainment service providing TV series, films, and games.\\n\\nDocument: Netflix 10k.pdf | Page Number: 2-3',\n",
       " 'Netflix is a leading entertainment service offering TV series, films, and games globally.\\n\\nDocument: Netflix 10k.pdf | Page Number: 2',\n",
       " 'Netflix is a leading entertainment service offering TV series, films, and games globally.\\n\\nDocument: Netflix 10k.pdf | Page Number: 2-3',\n",
       " 'Netflix is a global entertainment service with over 260 million paid memberships offering TV series, films, and games.\\n\\nDocument: Netflix 10k.pdf | Page Number: 2',\n",
       " 'Netflix is a leading entertainment service offering TV series, films, and games globally.\\n\\nDocument: Netflix 10k.pdf | Page Number: 2-3',\n",
       " 'Netflix is an entertainment service with TV series, films, and games.\\n\\nDocument: Netflix 10k.pdf | Page Number: 2',\n",
       " 'Netflix is a global entertainment service offering TV series, films, and games.\\n\\nDocument: Netflix 10k.pdf | Page Number: 2-3',\n",
       " 'Netflix is a leading global entertainment service offering TV series, films, and games.\\n\\nDocument: Netflix 10k.pdf | Page Number: 2',\n",
       " 'Netflix is a leading entertainment service providing TV series, films, and games globally.\\n\\nDocument: Netflix 10k.pdf | Page Number: 3',\n",
       " 'Netflix is a leading entertainment service with TV series, films, and games.\\n\\nDocument: Netflix 10k.pdf | Page Number: 2-3',\n",
       " 'Netflix is an entertainment service with 260 million members enjoying TV series, films, and games.\\n\\nDocument: Netflix 10k.pdf | Page Number: 2-3',\n",
       " 'Netflix is a leading entertainment service offering TV series, films, and games.\\n\\nDocument: Netflix 10k.pdf | Page Number: 2',\n",
       " 'Netflix is an entertainment service with 260 million memberships offering TV series, films, and games.\\n\\nDocument: Netflix 10k.pdf | Page Number: 2',\n",
       " 'Netflix is a leading entertainment service offering streaming TV series, films, and games globally.\\n\\nDocument: Netflix 10k.pdf | Page Number: 2',\n",
       " 'Netflix is a global entertainment service with TV series, films, and games.\\n\\nDocument: Netflix 10k.pdf | Page Number: 2',\n",
       " 'Netflix is a global entertainment service providing TV series, films, and games.\\n\\nDocument: Netflix 10k.pdf | Page Number: 2-3',\n",
       " 'Netflix is a global entertainment service offering TV series, films, and games.\\n\\nDocument: Netflix 10k.pdf | Page Number: 2',\n",
       " 'Netflix is a leading entertainment service with 260 million memberships in over 190 countries.\\n\\nDocument: Netflix 10k.pdf | Page Number: 2-3',\n",
       " \"Netflix, Inc. is one of the world's leading entertainment services providing TV series, films, and games.\\n\\nDocument: Netflix 10k.pdf | Page Number: 2\",\n",
       " 'Netflix is a global entertainment service offering TV series, films, and games.\\n\\nDocument: Netflix 10k.pdf | Page Number: 2',\n",
       " 'Netflix, Inc. is one of the world’s leading entertainment services with over 260 million paid memberships in over 190 countries enjoying TV series, films, and games.\\n\\nDocument: Netflix 10k.pdf | Page Number: 2-3',\n",
       " 'Netflix is a leading entertainment service with over 260 million paid memberships in 190 countries.\\n\\nDocument: Netflix 10k.pdf | Page Number: 2',\n",
       " 'Netflix is a leading entertainment service with TV series, films, and games.\\n\\nDocument: Netflix 10k.pdf | Page Number: 2-3',\n",
       " 'Netflix is a global entertainment service offering streaming TV series, films, and games.\\n\\nDocument: Netflix 10k.pdf | Page Number: 2',\n",
       " 'Netflix is an entertainment service with 260 million paid users worldwide.\\n\\nDocument: Netflix 10k.pdf | Page Number: 2']"
      ]
     },
     "execution_count": 9,
     "metadata": {},
     "output_type": "execute_result"
    }
   ],
   "source": [
    "responses"
   ]
  },
  {
   "cell_type": "code",
   "execution_count": 10,
   "metadata": {},
   "outputs": [
    {
     "data": {
      "text/plain": [
       "['Netflix, Inc. (\"Netflix\", \"the Company\", \"registrant\", \"we\", or \"us\") is one of the world\\'s leading entertainment services with over 260 million paid memberships in over 190 countries enjoying TV series, films and games across a wide variety of genres and languages.\\n\\nDocument: Netflix 10k.pdf | Page Number: 2-3',\n",
       " 'Netflix, Inc. (“Netflix”, “the Company”, “registrant”, “we”, or “us”) is one of the world’s leading entertainment services with over 260 million paid memberships in over 190 countries enjoying TV series, films and games across a wide variety of genres and languages.\\n\\nDocument: Netflix 10k.pdf | Page Number: 2',\n",
       " 'Netflix, Inc. (“Netflix”, “the Company”, “registrant”, “we”, or “us”) is one of the world’s leading entertainment services with over 260 million paid memberships in over 190 countries enjoying TV series, films and games across a wide variety of genres and languages.\\n\\nDocument: Netflix 10k.pdf | Page Number: 2-3',\n",
       " 'Netflix, Inc. (“Netflix”, “the Company”, “registrant”, “we”, or “us”) is one of the world’s leading entertainment services with over 260 million paid memberships in over 190 countries enjoying TV series, films and games across a wide variety of genres and languages.\\n\\nDocument: Netflix 10k.pdf | Page Number: 2',\n",
       " 'Netflix, Inc. (“Netflix”, “the Company”, “registrant”, “we”, or “us”) is one of the world’s leading entertainment services with over 260 million paid memberships in over 190 countries enjoying TV series, films and games across a wide variety of genres and languages.\\n\\nDocument: Netflix 10k.pdf | Page Number: 2-3',\n",
       " 'Netflix, Inc. (“Netflix”, “the Company”, “registrant”, “we”, or “us”) is one of the world’s leading entertainment services with over 260 million paid memberships in over 190 countries enjoying TV series, films and games across a wide variety of genres and languages.\\n\\nDocument: Netflix 10k.pdf | Page Number: 2',\n",
       " 'Netflix, Inc. (“Netflix”, “the Company”, “registrant”, “we”, or “us”) is one of the world’s leading entertainment services with over 260 million paid memberships in over 190 countries enjoying TV series, films and games across a wide variety of genres and languages.\\n\\nDocument: Netflix 10k.pdf | Page Number: 2-3',\n",
       " 'Netflix, Inc. (“Netflix”, “the Company”, “registrant”, “we”, or “us”) is one of the world’s leading entertainment services with over 260 million paid memberships in over 190 countries enjoying TV series, films and games across a wide variety of genres and languages.\\n\\nDocument: Netflix 10k.pdf | Page Number: 2',\n",
       " 'Netflix, Inc. (“Netflix”, “the Company”, “registrant”, “we”, or “us”) is one of the world’s leading entertainment services with over 260 million paid memberships in over 190 countries enjoying TV series, films and games across a wide variety of genres and languages.\\n\\nDocument: Netflix 10k.pdf | Page Number: 3',\n",
       " 'Netflix, Inc. (“Netflix”, “the Company”, “registrant”, “we”, or “us”) is one of the world’s leading entertainment services with over 260 million paid memberships in over 190 countries enjoying TV series, films and games across a wide variety of genres and languages.\\n\\nDocument: Netflix 10k.pdf | Page Number: 2-3',\n",
       " 'Netflix, Inc. (“Netflix”, “the Company”, “registrant”, “we”, or “us”) is one of the world’s leading entertainment services with over 260 million paid memberships in over 190 countries enjoying TV series, films and games across a wide variety of genres and languages.\\n\\nDocument: Netflix 10k.pdf | Page Number: 2-3',\n",
       " 'Netflix, Inc. (“Netflix”, “the Company”, “registrant”, “we”, or “us”) is one of the world’s leading entertainment services with over 260 million paid memberships in over 190 countries enjoying TV series, films and games across a wide variety of genres and languages.\\n\\nDocument: Netflix 10k.pdf | Page Number: 2',\n",
       " 'Netflix, Inc. (“Netflix”, “the Company”, “registrant”, “we”, or “us”) is one of the world’s leading entertainment services with over 260 million paid memberships in over 190 countries enjoying TV series, films and games across a wide variety of genres and languages.\\n\\nDocument: Netflix 10k.pdf | Page Number: 2',\n",
       " '\"Netflix is a leading entertainment service offering streaming TV series, films, and games globally.\"\\n\\nDocument: Netflix 10k.pdf | Page Number: 2',\n",
       " 'Netflix, Inc. (\"Netflix\", \"the Company\", \"registrant\", \"we\", or \"us\") is one of the world\\'s leading entertainment services with over 260 million paid memberships in over 190 countries enjoying TV series, films and games across a wide variety of genres and languages.\\n\\nDocument: Netflix 10k.pdf | Page Number: 2',\n",
       " 'Netflix, Inc. (“Netflix”, “the Company”, “registrant”, “we”, or “us”) is one of the world’s leading entertainment services with over 260 million paid memberships in over 190 countries enjoying TV series, films and games across a wide variety of genres and languages.\\n\\nDocument: Netflix 10k.pdf | Page Number: 2-3',\n",
       " 'Netflix, Inc. (“Netflix”, “the Company”, “registrant”, “we”, or “us”) is one of the world’s leading entertainment services with over 260 million paid memberships in over 190 countries enjoying TV series, films and games across a wide variety of genres and languages.\\n\\nDocument: Netflix 10k.pdf | Page Number: 2',\n",
       " 'Netflix, Inc. (“Netflix”, “the Company”, “registrant”, “we”, or “us”) is one of the world’s leading entertainment services with over 260 million paid memberships in over 190 countries enjoying TV series, films and games across a wide variety of genres and languages.\\n\\nDocument: Netflix 10k.pdf | Page Number: 2-3',\n",
       " 'Netflix, Inc. is one of the world’s leading entertainment services with over 260 million paid memberships in over 190 countries enjoying TV series, films and games across a wide variety of genres and languages.\\n\\nDocument: Netflix 10k.pdf | Page Number: 2',\n",
       " '\"Netflix, Inc. (“Netflix”, “the Company”, “registrant”, “we”, or “us”) is one of the world’s leading entertainment services with over 260 million paid memberships in over 190 countries enjoying TV series, films and games across a wide variety of genres and languages.\"\\n\\nDocument: Netflix 10k.pdf | Page Number: 2',\n",
       " 'Netflix, Inc. is one of the world’s leading entertainment services with over 260 million paid memberships in over 190 countries enjoying TV series, films and games across a wide variety of genres and languages.\\n\\nDocument: Netflix 10k.pdf | Page Number: 2-3',\n",
       " 'Netflix, Inc. (“Netflix”, “the Company”, “registrant”, “we”, or “us”) is one of the world’s leading entertainment services with over 260 million paid memberships in over 190 countries enjoying TV series, films and games across a wide variety of genres and languages.\\n\\nDocument: Netflix 10k.pdf | Page Number: 2',\n",
       " 'Netflix, Inc. (“Netflix”, “the Company”, “registrant”, “we”, or “us”) is one of the world’s leading entertainment services with over 260 million paid memberships in over 190 countries enjoying TV series, films and games across a wide variety of genres and languages.\\n\\nDocument: Netflix 10k.pdf | Page Number: 2-3',\n",
       " 'Netflix, Inc. (“Netflix”, “the Company”, “registrant”, “we”, or “us”) is one of the world’s leading entertainment services with over 260 million paid memberships in over 190 countries enjoying TV series, films and games across a wide variety of genres and languages.\\n\\nDocument: Netflix 10k.pdf | Page Number: 2',\n",
       " 'Netflix, Inc. (“Netflix”, “the Company”, “registrant”, “we”, or “us”) is one of the world’s leading entertainment services with over 260 million paid memberships in over 190 countries enjoying TV series, films and games across a wide variety of genres and languages.\\n\\nDocument: Netflix 10k.pdf | Page Number: 2']"
      ]
     },
     "execution_count": 10,
     "metadata": {},
     "output_type": "execute_result"
    }
   ],
   "source": [
    "refined_responses"
   ]
  },
  {
   "cell_type": "code",
   "execution_count": null,
   "metadata": {},
   "outputs": [],
   "source": [
    "i = 1\n",
    "for a, b in zip(responses, refined_responses):\n",
    "    print(f\"Attempt {i}\")\n",
    "    print(\"First Response\\n\")\n",
    "    print(a)\n",
    "    print('\\n\\n')\n",
    "    print(f'Refined Response:\\n')\n",
    "    print(b)\n",
    "    print(\"------------------------------------\")\n",
    "    i+=1"
   ]
  },
  {
   "cell_type": "code",
   "execution_count": null,
   "metadata": {},
   "outputs": [],
   "source": [
    "rag_app.vectorstore_files"
   ]
  },
  {
   "cell_type": "code",
   "execution_count": null,
   "metadata": {},
   "outputs": [],
   "source": [
    "rag_app.vectorstore.get().keys()"
   ]
  },
  {
   "cell_type": "code",
   "execution_count": null,
   "metadata": {},
   "outputs": [],
   "source": [
    "for pg in rag_app.vectorstore.get()['documents']:\n",
    "    if 'Speiser' in pg:\n",
    "        print(pg)"
   ]
  },
  {
   "cell_type": "code",
   "execution_count": null,
   "metadata": {},
   "outputs": [],
   "source": [
    "rag_app.compressed_vector_search(question)"
   ]
  },
  {
   "cell_type": "code",
   "execution_count": null,
   "metadata": {},
   "outputs": [],
   "source": [
    "parser = OutputParser(refined_response)"
   ]
  },
  {
   "cell_type": "code",
   "execution_count": null,
   "metadata": {},
   "outputs": [],
   "source": [
    "parser.get_values()"
   ]
  },
  {
   "cell_type": "code",
   "execution_count": null,
   "metadata": {},
   "outputs": [],
   "source": [
    "for d in docs:\n",
    "    print(d.metadata)"
   ]
  },
  {
   "cell_type": "code",
   "execution_count": null,
   "metadata": {},
   "outputs": [],
   "source": [
    "parser = OutputParser(refined_response)"
   ]
  },
  {
   "cell_type": "code",
   "execution_count": null,
   "metadata": {},
   "outputs": [],
   "source": [
    "parser.get_values()"
   ]
  },
  {
   "cell_type": "code",
   "execution_count": null,
   "metadata": {},
   "outputs": [],
   "source": [
    "parser.get_pages()"
   ]
  },
  {
   "cell_type": "code",
   "execution_count": null,
   "metadata": {},
   "outputs": [],
   "source": [
    "meta = rag_app.vectorstore.get()['metadatas']\n",
    "for ent in meta:\n",
    "    try:\n",
    "        if ent['file path'] == 'nike 10k.pdf':\n",
    "            print(ent)\n",
    "    except Exception as err:\n",
    "        print(ent)"
   ]
  },
  {
   "cell_type": "code",
   "execution_count": null,
   "metadata": {},
   "outputs": [],
   "source": [
    "rag_app.vectorstore.get()['metadatas']"
   ]
  },
  {
   "cell_type": "code",
   "execution_count": null,
   "metadata": {},
   "outputs": [],
   "source": [
    "rag_app.vectorstore_files"
   ]
  },
  {
   "cell_type": "code",
   "execution_count": null,
   "metadata": {},
   "outputs": [],
   "source": [
    "question = \"Who signed the starbucks document?\"\n",
    "response = rag_app.ask_question(question)\n",
    "print(response)"
   ]
  },
  {
   "cell_type": "code",
   "execution_count": null,
   "metadata": {},
   "outputs": [],
   "source": [
    "refined = rag_app.refine_output(response, question)\n",
    "print(refined)"
   ]
  },
  {
   "cell_type": "code",
   "execution_count": null,
   "metadata": {},
   "outputs": [],
   "source": [
    "parser = OutputParser(refined)\n"
   ]
  },
  {
   "cell_type": "code",
   "execution_count": null,
   "metadata": {},
   "outputs": [],
   "source": [
    "parser.get_file()"
   ]
  },
  {
   "cell_type": "code",
   "execution_count": null,
   "metadata": {},
   "outputs": [],
   "source": [
    "rag_app = RagApplication()\n",
    "session_state = {\n",
    "    'annotators':{},\n",
    "    'parser':parser,\n",
    "    'response':refined,\n",
    "    'sessionId':'abc'\n",
    "}"
   ]
  },
  {
   "cell_type": "code",
   "execution_count": null,
   "metadata": {},
   "outputs": [],
   "source": [
    "def annotate_pdf_temp(session_state):\n",
    "    session_id = session_state['sessionId']\n",
    "    response = session_state['response']\n",
    "    parser = session_state['parser']\n",
    "    try:\n",
    "        if 'pdf' in parser.get_file():\n",
    "            if parser.get_file() in session_state['annotators'].keys():\n",
    "                annotator = session_state['annotators'][parser.get_file()]\n",
    "            else:\n",
    "                annotator = PdfAnnotator(parser.get_file())\n",
    "                session_state['annotators'][parser.get_file()] = annotator\n",
    "            annotator.highlight(parser, response)\n",
    "            path = os.path.join('annotated_docs', session_id)\n",
    "            if os.path.isdir(path) is False:\n",
    "                os.makedirs(path)\n",
    "            annotator.save_new_pdf(os.path.join(path, os.path.basename(parser.get_file())))\n",
    "            return annotator\n",
    "        else:\n",
    "            print(\"PDF FAILING\")\n",
    "            raise Exception\n",
    "    except Exception as err:\n",
    "        print(\"Sorry, there was an error trying to annotate the pdf. Please ask your question again!\")\n",
    "        return None"
   ]
  },
  {
   "cell_type": "code",
   "execution_count": null,
   "metadata": {},
   "outputs": [],
   "source": [
    "s = 'COCA COLA CO' \n",
    "s.title()"
   ]
  },
  {
   "cell_type": "code",
   "execution_count": null,
   "metadata": {},
   "outputs": [],
   "source": []
  }
 ],
 "metadata": {
  "kernelspec": {
   "display_name": "Python 3",
   "language": "python",
   "name": "python3"
  },
  "language_info": {
   "codemirror_mode": {
    "name": "ipython",
    "version": 3
   },
   "file_extension": ".py",
   "mimetype": "text/x-python",
   "name": "python",
   "nbconvert_exporter": "python",
   "pygments_lexer": "ipython3",
   "version": "3.11.7"
  }
 },
 "nbformat": 4,
 "nbformat_minor": 2
}
