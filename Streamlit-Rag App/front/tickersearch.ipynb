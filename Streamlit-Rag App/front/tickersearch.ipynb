{
 "cells": [
  {
   "cell_type": "code",
   "execution_count": 28,
   "metadata": {},
   "outputs": [],
   "source": [
    "import pandas as pd\n",
    "df = pd.read_csv('nasdaqlisted.txt', sep='|')"
   ]
  },
  {
   "cell_type": "code",
   "execution_count": 29,
   "metadata": {},
   "outputs": [],
   "source": [
    "df = df['Symbol'].astype(str)"
   ]
  },
  {
   "cell_type": "code",
   "execution_count": 31,
   "metadata": {},
   "outputs": [
    {
     "data": {
      "text/plain": [
       "4860                                ZXZZT\n",
       "4861                                 ZYME\n",
       "4862                                 ZYXI\n",
       "4863                                  ZZZ\n",
       "4864    File Creation Time: 0523202414:01\n",
       "Name: Symbol, dtype: object"
      ]
     },
     "execution_count": 31,
     "metadata": {},
     "output_type": "execute_result"
    }
   ],
   "source": [
    "df.tail()"
   ]
  },
  {
   "cell_type": "code",
   "execution_count": 32,
   "metadata": {},
   "outputs": [],
   "source": [
    "tickers = list(pd.read_csv('nasdaqlisted.txt', sep='|')['Symbol'].astype(str))[0:-1]"
   ]
  },
  {
   "cell_type": "code",
   "execution_count": 38,
   "metadata": {},
   "outputs": [],
   "source": [
    "def filter_tickers(substring, tickers):\n",
    "    updated = []\n",
    "    for ticker in tickers:\n",
    "        if substring in ticker:\n",
    "            updated.append(ticker)\n",
    "    return updated"
   ]
  },
  {
   "cell_type": "code",
   "execution_count": 39,
   "metadata": {},
   "outputs": [
    {
     "data": {
      "text/plain": [
       "['AACG',\n",
       " 'AACI',\n",
       " 'AACIU',\n",
       " 'AACIW',\n",
       " 'AADI',\n",
       " 'AADR',\n",
       " 'AAGR',\n",
       " 'AAGRW',\n",
       " 'AAL',\n",
       " 'AAME',\n",
       " 'AAOI',\n",
       " 'AAON',\n",
       " 'AAPB',\n",
       " 'AAPD',\n",
       " 'AAPL',\n",
       " 'AAPU',\n",
       " 'AAXJ',\n",
       " 'CAAS',\n",
       " 'FAAR',\n",
       " 'FAAS',\n",
       " 'FAASW',\n",
       " 'IRAA',\n",
       " 'IRAAU',\n",
       " 'IRAAW',\n",
       " 'MCAA',\n",
       " 'MCAAU',\n",
       " 'MCAAW',\n",
       " 'MPAA',\n",
       " 'NAAS',\n",
       " 'PAA',\n",
       " 'PARAA',\n",
       " 'PRAA',\n",
       " 'RBCAA',\n",
       " 'RYAAY',\n",
       " 'STAA',\n",
       " 'TGAA',\n",
       " 'TGAAU',\n",
       " 'TGAAW']"
      ]
     },
     "execution_count": 39,
     "metadata": {},
     "output_type": "execute_result"
    }
   ],
   "source": [
    "filter_tickers('AA', tickers)"
   ]
  },
  {
   "cell_type": "code",
   "execution_count": null,
   "metadata": {},
   "outputs": [],
   "source": []
  }
 ],
 "metadata": {
  "kernelspec": {
   "display_name": "Python 3",
   "language": "python",
   "name": "python3"
  },
  "language_info": {
   "codemirror_mode": {
    "name": "ipython",
    "version": 3
   },
   "file_extension": ".py",
   "mimetype": "text/x-python",
   "name": "python",
   "nbconvert_exporter": "python",
   "pygments_lexer": "ipython3",
   "version": "3.11.7"
  }
 },
 "nbformat": 4,
 "nbformat_minor": 2
}
